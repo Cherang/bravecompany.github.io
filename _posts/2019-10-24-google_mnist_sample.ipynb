{
 "cells": [
  {
   "cell_type": "code",
   "execution_count": 2,
   "metadata": {},
   "outputs": [],
   "source": [
    "import tensorflow as tf\n",
    "\n",
    "from tensorflow.keras.layers import Dense, Flatten, Conv2D\n",
    "from tensorflow.keras import Model"
   ]
  },
  {
   "cell_type": "markdown",
   "metadata": {},
   "source": [
    "60000개의 손글씨 데이타를 준비하는 과정입니다."
   ]
  },
  {
   "cell_type": "code",
   "execution_count": 34,
   "metadata": {},
   "outputs": [
    {
     "data": {
      "text/plain": [
       "((60000, 28, 28), (60000,))"
      ]
     },
     "execution_count": 34,
     "metadata": {},
     "output_type": "execute_result"
    }
   ],
   "source": [
    "mnist = tf.keras.datasets.mnist\n",
    "\n",
    "(x_train, y_train), (x_test, y_test) = mnist.load_data()\n",
    "\n",
    "#x_train을 살펴보자. 28x28 사이즈를 가진 60000개의 이미지들입니다.\n",
    "#y_train을 살펴보자. 60000개의 숫자라벨입니다.\n",
    "x_train.shape , y_train.shape"
   ]
  },
  {
   "cell_type": "code",
   "execution_count": 37,
   "metadata": {},
   "outputs": [
    {
     "data": {
      "text/plain": [
       "(60000, 28, 28, 1)"
      ]
     },
     "execution_count": 37,
     "metadata": {},
     "output_type": "execute_result"
    }
   ],
   "source": [
    "#0~255컬러값을 0~1.0 값으로 변환\n",
    "x_train, x_test = x_train / 255.0, x_test / 255.0\n",
    "\n",
    "# 채널 차원을 추가합니다. 이미지가 Gray Scale이기 때문에.. 한 차수 증가\n",
    "x_train = x_train[..., tf.newaxis]\n",
    "x_test = x_test[..., tf.newaxis]\n",
    "\n",
    "x_train.shape"
   ]
  },
  {
   "cell_type": "code",
   "execution_count": 6,
   "metadata": {},
   "outputs": [],
   "source": [
    "#tf.data를 사용하여 데이터셋을 섞고 배치를 만듭니다:\n",
    "train_ds = tf.data.Dataset.from_tensor_slices(\n",
    "    (x_train, y_train)).shuffle(10000).batch(32)\n",
    "\n",
    "test_ds = tf.data.Dataset.from_tensor_slices((x_test, y_test)).batch(32)"
   ]
  },
  {
   "cell_type": "markdown",
   "metadata": {},
   "source": [
    "### 학습 모델을 구성한다.\n",
    "1. 신경망 학습에 모델을 넣기 전에, 모델의 가진 특징(Feature)를 추출하는 작업\n",
    "2. 이를 Fully Connected로 연결하는 작업"
   ]
  },
  {
   "cell_type": "code",
   "execution_count": 30,
   "metadata": {},
   "outputs": [],
   "source": [
    "class MyModel(Model):\n",
    "    \n",
    "  def __init__(self):\n",
    "    super(MyModel, self).__init__()\n",
    "    \n",
    "    ## 이 부분이 딥러닝 학습 구조(노드들을)를 배치하는 과정입니다.\n",
    "    self.conv1 = Conv2D(32, 3, activation='relu')\n",
    "    self.flatten = Flatten()\n",
    "    self.d1 = Dense(128, activation='relu')\n",
    "    self.d2 = Dense(10, activation='softmax')\n",
    "\n",
    "  def call(self, x):\n",
    "    \n",
    "    # Features Extraction Layers\n",
    "    \n",
    "    ## 입력된 이미지를 먼저 Conv2D 노드에 넣어서 가공하고\n",
    "    x = self.conv1(x)\n",
    "    ## 그 결과를 Flatten 노드에 넣어서 다시 가공하고\n",
    "    x = self.flatten(x)\n",
    "    \n",
    "    # FullyConnected Layers \n",
    "    \n",
    "    ## 그 결과를 Dense에 넣어 Fully Connected\n",
    "    x = self.d1(x)\n",
    "    ## 마지막으로 softmax 알고리즘에 넣어서 확률로 결과값 표현\n",
    "    return self.d2(x)\n",
    "\n",
    "model = MyModel()"
   ]
  },
  {
   "cell_type": "markdown",
   "metadata": {},
   "source": [
    "### Loss Function 정의 /모델을 평가하는 부분"
   ]
  },
  {
   "cell_type": "code",
   "execution_count": 32,
   "metadata": {},
   "outputs": [],
   "source": [
    "loss_object = tf.keras.losses.SparseCategoricalCrossentropy()"
   ]
  },
  {
   "cell_type": "code",
   "execution_count": 39,
   "metadata": {},
   "outputs": [],
   "source": [
    "#값들의 평균을 내서, Loss 값으로 사용 \n",
    "train_loss = tf.keras.metrics.Mean(name='train_loss')\n",
    "train_accuracy = tf.keras.metrics.SparseCategoricalAccuracy(name='train_accuracy')\n",
    "\n",
    "test_loss = tf.keras.metrics.Mean(name='test_loss')\n",
    "test_accuracy = tf.keras.metrics.SparseCategoricalAccuracy(name='test_accuracy')"
   ]
  },
  {
   "cell_type": "markdown",
   "metadata": {},
   "source": [
    "### 옵티마이징 정의\n",
    "1. SGD/Adam/RMSprop 등이 있음"
   ]
  },
  {
   "cell_type": "code",
   "execution_count": 31,
   "metadata": {},
   "outputs": [],
   "source": [
    "optimizer = tf.keras.optimizers.Adam()"
   ]
  },
  {
   "cell_type": "markdown",
   "metadata": {},
   "source": [
    "학습 시작\n",
    "   1. Feature Extraction > Fully Connected\n",
    "   2. Loss 평가 > Optimize\n",
    "   3. 다시 1로 "
   ]
  },
  {
   "cell_type": "code",
   "execution_count": 40,
   "metadata": {},
   "outputs": [],
   "source": [
    "@tf.function\n",
    "def train_step(images, labels):\n",
    "  with tf.GradientTape() as tape:\n",
    "    #모델을 통해 예측값 획득\n",
    "    predictions = model(images)\n",
    "    loss = loss_object(labels, predictions)\n",
    "    \n",
    "  #옵타마이징을 위한 기울기(최적화 방향)를 받아 온다\n",
    "  gradients = tape.gradient(loss, model.trainable_variables)\n",
    "  #옵티마이지 펑션에 기울기를 반영\n",
    "  optimizer.apply_gradients(zip(gradients, model.trainable_variables))\n",
    "\n",
    "  train_loss(loss)\n",
    "  train_accuracy(labels, predictions)"
   ]
  },
  {
   "cell_type": "code",
   "execution_count": 14,
   "metadata": {},
   "outputs": [],
   "source": [
    "@tf.function\n",
    "def test_step(images, labels):\n",
    "  predictions = model(images)\n",
    "  t_loss = loss_object(labels, predictions)\n",
    "\n",
    "  test_loss(t_loss)\n",
    "  test_accuracy(labels, predictions)"
   ]
  },
  {
   "cell_type": "markdown",
   "metadata": {},
   "source": [
    "### 지금 부터 학습을 시작합니다."
   ]
  },
  {
   "cell_type": "code",
   "execution_count": 16,
   "metadata": {},
   "outputs": [
    {
     "name": "stdout",
     "output_type": "stream",
     "text": [
      "에포크: 1, 손실: 0.11711452901363373, 정확도: 96.42730712890625, 테스트 손실: 0.05759671330451965, 테스트 정확도: 98.11000061035156\n",
      "에포크: 2, 손실: 0.08026456832885742, 정확도: 97.54838562011719, 테스트 손실: 0.05866595357656479, 테스트 정확도: 98.125\n",
      "에포크: 3, 손실: 0.060736510902643204, 정확도: 98.1514892578125, 테스트 손실: 0.06111077964305878, 테스트 정확도: 98.0633316040039\n",
      "에포크: 4, 손실: 0.048985905945301056, 정확도: 98.50094604492188, 테스트 손실: 0.06149331107735634, 테스트 정확도: 98.10749816894531\n",
      "에포크: 5, 손실: 0.04154147952795029, 정확도: 98.72156524658203, 테스트 손실: 0.06251738220453262, 테스트 정확도: 98.13800048828125\n"
     ]
    }
   ],
   "source": [
    "#에포크는 동일한 데이타셋을 몇번 반복해서 학습을 시킬것인지를 의미합니다.\n",
    "#앞에서 나온 배치는 60000만개의 데이타를 학습에 밀어 넣을때, 몇개를 묶어서 넣을 것이냐를 의미합니다.\n",
    "EPOCHS = 5\n",
    "\n",
    "for epoch in range(EPOCHS):\n",
    "  for images, labels in train_ds:\n",
    "    train_step(images, labels)\n",
    "\n",
    "  for test_images, test_labels in test_ds:\n",
    "    test_step(test_images, test_labels)\n",
    "\n",
    "  template = '에포크: {}, 손실: {}, 정확도: {}, 테스트 손실: {}, 테스트 정확도: {}'\n",
    "  print (template.format(epoch+1,\n",
    "                         train_loss.result(),\n",
    "                         train_accuracy.result()*100,\n",
    "                         test_loss.result(),\n",
    "                         test_accuracy.result()*100))"
   ]
  },
  {
   "cell_type": "markdown",
   "metadata": {},
   "source": [
    "## 사용"
   ]
  },
  {
   "cell_type": "code",
   "execution_count": 43,
   "metadata": {},
   "outputs": [
    {
     "data": {
      "text/plain": [
       "array([[0.10296176, 0.1024738 , 0.08738489, 0.09359147, 0.09476233,\n",
       "        0.10831702, 0.10840954, 0.09938325, 0.10476246, 0.09795345]],\n",
       "      dtype=float32)"
      ]
     },
     "execution_count": 43,
     "metadata": {},
     "output_type": "execute_result"
    }
   ],
   "source": [
    "test_image = x_test[0,:,:,0]\n",
    "pred = model.predict(test_image.reshape(1,28,28,1))\n",
    "pred"
   ]
  },
  {
   "cell_type": "code",
   "execution_count": 44,
   "metadata": {},
   "outputs": [],
   "source": [
    "import matplotlib.pyplot as plt\n",
    "import numpy as np\n",
    "%matplotlib inline\n"
   ]
  },
  {
   "cell_type": "code",
   "execution_count": 45,
   "metadata": {},
   "outputs": [
    {
     "data": {
      "image/png": "[encoded data removed]",
      "text/plain": [
       "<Figure size 432x288 with 1 Axes>"
      ]
     },
     "metadata": {
      "needs_background": "light"
     },
     "output_type": "display_data"
    }
   ],
   "source": [
    "plt.imshow(test_image)\n",
    "plt.show()"
   ]
  },
  {
   "cell_type": "code",
   "execution_count": 46,
   "metadata": {},
   "outputs": [
    {
     "data": {
      "text/plain": [
       "6"
      ]
     },
     "execution_count": 46,
     "metadata": {},
     "output_type": "execute_result"
    }
   ],
   "source": [
    "np.argmax(pred)"
   ]
  }
 ],
 "metadata": {
  "kernelspec": {
   "display_name": "Python 3",
   "language": "python",
   "name": "python3"
  },
  "language_info": {
   "codemirror_mode": {
    "name": "ipython",
    "version": 3
   },
   "file_extension": ".py",
   "mimetype": "text/x-python",
   "name": "python",
   "nbconvert_exporter": "python",
   "pygments_lexer": "ipython3",
   "version": "3.7.3"
  }
 },
 "nbformat": 4,
 "nbformat_minor": 2
}
